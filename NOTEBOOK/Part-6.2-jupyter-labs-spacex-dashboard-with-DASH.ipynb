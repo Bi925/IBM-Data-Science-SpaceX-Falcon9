{
 "cells": [
  {
   "cell_type": "markdown",
   "id": "35aa6d55",
   "metadata": {},
   "source": [
    "# Interactive Dashboard with DASH "
   ]
  },
  {
   "cell_type": "markdown",
   "id": "dbbeeee9",
   "metadata": {},
   "source": [
    "### Import libraries"
   ]
  },
  {
   "cell_type": "code",
   "execution_count": 1,
   "id": "8b18af52",
   "metadata": {},
   "outputs": [],
   "source": [
    "# suppress warnings\n",
    "import warnings\n",
    "warnings.filterwarnings(\"ignore\")"
   ]
  },
  {
   "cell_type": "code",
   "execution_count": 2,
   "id": "a93145a0",
   "metadata": {},
   "outputs": [],
   "source": [
    "# Import required libraries\n",
    "import pandas as pd\n",
    "import dash\n",
    "import dash_html_components as html\n",
    "import dash_core_components as dcc\n",
    "from dash.dependencies import Input, Output\n",
    "import plotly.express as px"
   ]
  },
  {
   "cell_type": "markdown",
   "id": "7b79f9fe",
   "metadata": {},
   "source": [
    "### Read the csv file"
   ]
  },
  {
   "cell_type": "code",
   "execution_count": 3,
   "id": "8f4a1abd",
   "metadata": {},
   "outputs": [],
   "source": [
    "# Read the airline data into pandas dataframe\n",
    "spacex_df = pd.read_csv(\"spacex_launch_dash.csv\")"
   ]
  },
  {
   "cell_type": "code",
   "execution_count": 4,
   "id": "7599f388",
   "metadata": {},
   "outputs": [],
   "source": [
    "max_payload = spacex_df['Payload Mass (kg)'].max()\n",
    "min_payload = spacex_df['Payload Mass (kg)'].min()"
   ]
  },
  {
   "cell_type": "markdown",
   "id": "7ff8733d",
   "metadata": {},
   "source": [
    "### Initiate the dash app"
   ]
  },
  {
   "cell_type": "code",
   "execution_count": 5,
   "id": "530199b0",
   "metadata": {},
   "outputs": [],
   "source": [
    "# Create a dash application\n",
    "app = dash.Dash(__name__)"
   ]
  },
  {
   "cell_type": "markdown",
   "id": "db8a18b4",
   "metadata": {},
   "source": [
    "### App layout"
   ]
  },
  {
   "cell_type": "code",
   "execution_count": 6,
   "id": "ae151327",
   "metadata": {},
   "outputs": [],
   "source": [
    "# Create an app layout\n",
    "app.layout = html.Div(children=[html.H1('SpaceX Launch Records Dashboard',\n",
    "                                        style={'textAlign': 'center', 'color': '#503D36',\n",
    "                                               'font-size': 40}),\n",
    "                                # TASK 1: Add a dropdown list to enable Launch Site selection\n",
    "                                # The default select value is for ALL sites\n",
    "                                # dcc.Dropdown(id='site-dropdown',...)\n",
    "                                dcc.Dropdown(id='site-dropdown',\n",
    "                                options=[{'label': i, 'value': i} for i in spacex_df['Launch Site'].unique()]+\n",
    "                                [{'label':'ALL', 'value':'ALL'}],\n",
    "                                value='ALL',\n",
    "                                placeholder ='Select a Launch Site here',\n",
    "                                searchable = True),\n",
    "                                html.Br(),\n",
    "\n",
    "                                # TASK 2: Add a pie chart to show the total successful launches count for all sites\n",
    "                                # If a specific launch site was selected, show the Success vs. Failed counts for the site\n",
    "                                html.Div(dcc.Graph(id='success-pie-chart')),\n",
    "                                html.Br(),\n",
    "\n",
    "                                html.P(\"Payload range (Kg):\"),\n",
    "                                # TASK 3: Add a slider to select payload range\n",
    "                                dcc.RangeSlider(id='payload-slider',min=0,max=10000,step=1000,value=[min_payload,max_payload]),\n",
    "\n",
    "                                # TASK 4: Add a scatter chart to show the correlation between payload and launch success\n",
    "                                html.Div(dcc.Graph(id='success-payload-scatter-chart')),\n",
    "                                ])\n"
   ]
  },
  {
   "cell_type": "code",
   "execution_count": 7,
   "id": "1c48564e",
   "metadata": {},
   "outputs": [],
   "source": [
    "# TASK 2:\n",
    "# Add a callback function for `site-dropdown` as input, `success-pie-chart` as output\n",
    "@app.callback(\n",
    "    Output(component_id='success-pie-chart', component_property='figure'),\n",
    "    Input(component_id='site-dropdown', component_property='value')\n",
    ")\n",
    "def create_fig(select_dropdown):\n",
    "    if select_dropdown == 'ALL':\n",
    "        filter_df = spacex_df [['Launch Site','class']].groupby('Launch Site').sum()\n",
    "        filter_df.reset_index(inplace=True)\n",
    "        fig=px.pie(filter_df, values='class', names='Launch Site')\n",
    "\n",
    "    else:\n",
    "        sub_df = spacex_df[spacex_df['Launch Site']==select_dropdown]\n",
    "        filter_df =  pd.DataFrame(sub_df[['class']].value_counts() )\n",
    "        filter_df.reset_index(inplace=True) \n",
    "        filter_df.columns=['class','count']\n",
    "        fig=px.pie(filter_df, values='count', names='class')\n",
    "\n",
    "    return fig"
   ]
  },
  {
   "cell_type": "code",
   "execution_count": null,
   "id": "20d1098c",
   "metadata": {},
   "outputs": [],
   "source": [
    "# TASK 4:\n",
    "# Add a callback function for `site-dropdown` and `payload-slider` as inputs, `success-payload-scatter-chart` as output\n",
    "@app.callback(\n",
    "    Output(component_id='success-payload-scatter-chart', component_property='figure'),\n",
    "    [Input(component_id='site-dropdown', component_property='value'), \n",
    "        Input(component_id=\"payload-slider\", component_property=\"value\")]\n",
    ")"
   ]
  },
  {
   "cell_type": "markdown",
   "id": "40a54e3c",
   "metadata": {},
   "source": [
    "### Scatter plot function"
   ]
  },
  {
   "cell_type": "code",
   "execution_count": 9,
   "id": "ad1be5b4",
   "metadata": {},
   "outputs": [],
   "source": [
    "def create_scatter(site, payload):\n",
    "    print(payload)\n",
    "    if site == 'ALL':\n",
    "        filter_df = spacex_df[(spacex_df['Payload Mass (kg)']>=int(payload[0])) & (spacex_df['Payload Mass (kg)']<=int(payload[1]))]\n",
    "        print(filter_df[['class','Payload Mass (kg)']])\n",
    "        fig=px.scatter(filter_df,x='Payload Mass (kg)', y='class',color=\"Booster Version Category\")\n",
    "\n",
    "    else:\n",
    "        filter_df = spacex_df[spacex_df['Launch Site']==select_dropdown]\n",
    "        filter_df = filter_df[(filter_df['Payload Mass (kg)']>=int(payload[0])) & (filter_df['Payload Mass (kg)'] <=int(payload[1]))]\n",
    "        print(filter_df[['class','Payload Mass (kg)']])\n",
    "        fig=px.scatter(filter_df,x='Payload Mass (kg)', y='class',color=\"Booster Version Category\")\n",
    "    return fig"
   ]
  }
 ],
 "metadata": {
  "kernelspec": {
   "display_name": "Python 3 (ipykernel)",
   "language": "python",
   "name": "python3"
  },
  "language_info": {
   "codemirror_mode": {
    "name": "ipython",
    "version": 3
   },
   "file_extension": ".py",
   "mimetype": "text/x-python",
   "name": "python",
   "nbconvert_exporter": "python",
   "pygments_lexer": "ipython3",
   "version": "3.8.5"
  }
 },
 "nbformat": 4,
 "nbformat_minor": 5
}
